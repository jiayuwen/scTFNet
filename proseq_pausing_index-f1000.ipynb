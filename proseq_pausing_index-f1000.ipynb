{
 "cells": [
  {
   "cell_type": "markdown",
   "id": "ccd4a0bb-daab-45d5-8017-9a585ba5558a",
   "metadata": {},
   "source": [
    "# Proseq Pausing Index f1000 Prediction prototype"
   ]
  },
  {
   "cell_type": "code",
   "execution_count": 1,
   "id": "51b3ee06-2b17-476c-8ad3-e475d4b61c4c",
   "metadata": {},
   "outputs": [],
   "source": [
    "import argparse\n",
    "from models import *\n",
    "from utils.plot_utils import *\n",
    "from utils.metrics_utils import *\n",
    "from utils.train_utils import *\n",
    "import horovod.tensorflow.keras as hvd\n",
    "import time\n",
    "import pyBigWig\n",
    "import tensorflow_addons as tfa\n",
    "from sklearn.metrics import confusion_matrix, accuracy_score, precision_score, recall_score, f1_score, \\\n",
    "    cohen_kappa_score, auc, roc_curve, matthews_corrcoef, precision_recall_curve, roc_auc_score, average_precision_score"
   ]
  },
  {
   "cell_type": "code",
   "execution_count": 2,
   "id": "47eda35d-9baa-4f8a-8568-b579ad2c3bd7",
   "metadata": {},
   "outputs": [],
   "source": [
    "f_length = 1000"
   ]
  },
  {
   "cell_type": "code",
   "execution_count": 3,
   "id": "9555f6f0-2714-4378-8924-32b7babe511a",
   "metadata": {},
   "outputs": [
    {
     "name": "stdout",
     "output_type": "stream",
     "text": [
      "start - end != flanking_region_len\n"
     ]
    }
   ],
   "source": [
    "# def generate_data_batch(file_path='./'):\n",
    "\n",
    "file_path=''\n",
    "\n",
    "path1 = file_path+'./data/dna_bigwig/'  # dna\n",
    "path2 = file_path+'./data/atac_bigwig/'  # atac\n",
    "path3 = file_path+'./data/PRO-seq_bed_files/Proseq_pausing_index_'+ str(f_length) + '_flanking.bed'\n",
    "\n",
    "# open bigwig\n",
    "list_dna = ['A', 'C', 'G', 'T']\n",
    "dict_dna = {}\n",
    "for the_id in list_dna:\n",
    "    dict_dna[the_id] = pyBigWig.open(path1 + the_id + '.bigwig')\n",
    "\n",
    "num_bp = np.array([23513712, 25286936, 28110227, 32079331, 1348131, 23542271, 3667352])\n",
    "chr_all = ['chr2L', 'chr2R', 'chr3L', 'chr3R', 'chr4', 'chrX', 'chrY']\n",
    "\n",
    "chr_len = {}\n",
    "for i in np.arange(len(chr_all)):\n",
    "    chr_len[chr_all[i]] = num_bp[i]\n",
    "\n",
    "size = f_length*2  \n",
    "num_channel = 5\n",
    "\n",
    "genome_seq_batch = []\n",
    "label_batch = []\n",
    "\n",
    "feature_bw = pyBigWig.open(path2 + 'wt-ATAC.1x.P9108.bw')\n",
    "exp_bed = open(path3, 'r')\n",
    "\n",
    "for idx, line in enumerate(exp_bed):\n",
    "\n",
    "    # ignore header\n",
    "    if idx == 0:\n",
    "        continue\n",
    "    bed_record = line.split(\"\\t\")\n",
    "    the_chr = bed_record[0]\n",
    "    start = int(bed_record[1])\n",
    "    end = int(bed_record[2])\n",
    "    exp = float(bed_record[-1])\n",
    "\n",
    "    # ignore chrom not in the chrom list\n",
    "    if the_chr not in chr_all:\n",
    "        continue\n",
    "\n",
    "    if abs(start - end) != size:\n",
    "        print(\"start - end != flanking_region_len\")\n",
    "        continue\n",
    "\n",
    "    genome_seq = np.zeros((num_channel, size))\n",
    "    num = 0\n",
    "    for k in np.arange(len(list_dna)):\n",
    "        the_id = list_dna[k]\n",
    "        genome_seq[num, :] = dict_dna[the_id].values(the_chr, start, end)\n",
    "        num += 1\n",
    "    genome_seq[num, :] = np.nan_to_num(np.array(feature_bw.values(the_chr, start, end)), nan=0.0)\n",
    "    \n",
    "    # genome_seq[num+1, :] = np.nan_to_num(np.array(feature2_bw.values(the_chr, start, end)), nan=0.0)\n",
    "\n",
    "    genome_seq_batch.append(genome_seq.T)\n",
    "    label_batch.append(exp)\n",
    "\n",
    "feature_bw.close()\n",
    "exp_bed.close()"
   ]
  },
  {
   "cell_type": "code",
   "execution_count": 4,
   "id": "06af1b77-3ab1-4aec-8446-d183eae194d6",
   "metadata": {},
   "outputs": [
    {
     "data": {
      "text/plain": [
       "((12658,), (12658, 2000, 5))"
      ]
     },
     "execution_count": 4,
     "metadata": {},
     "output_type": "execute_result"
    }
   ],
   "source": [
    "np.array(label_batch).shape, np.array(genome_seq_batch).shape"
   ]
  },
  {
   "cell_type": "code",
   "execution_count": 5,
   "id": "f6fb61d2-750b-4740-ba17-44ed6114e7d3",
   "metadata": {},
   "outputs": [
    {
     "data": {
      "text/plain": [
       "(0.996849876575889, 6.73404789481566e-05)"
      ]
     },
     "execution_count": 5,
     "metadata": {},
     "output_type": "execute_result"
    }
   ],
   "source": [
    "max(label_batch),min(label_batch)"
   ]
  },
  {
   "cell_type": "code",
   "execution_count": 6,
   "id": "fa5ef26b-7e6e-4970-bd0c-ce8a4d29a6e0",
   "metadata": {},
   "outputs": [],
   "source": [
    "def Exp_Trans_UNet(input_size=(2000, 5), n_filters=32, n_head = 8, n_ff_dims = 64, n_classes=1):\n",
    "    \"\"\"\n",
    "    Combine both encoder and decoder blocks according to the U-Net research paper\n",
    "    Return the model as output\n",
    "    \"\"\"\n",
    "    # Input size represent the size of 1 image (the size used for pre-processing)\n",
    "    inputs = Input(input_size)\n",
    "    max_len, vocab_size = input_size\n",
    "    dropout_prob = 0.2\n",
    "    kernel_size = 9\n",
    "    num_heads = 12\n",
    "    \n",
    "    cblock1 = EncoderSeTBlock(inputs, pos_len=2000, num_heads=0, n_filters=32, kernel_size=kernel_size, dropout_prob=dropout_prob, layer_name=\"ecb_1_\", max_pooling=True)\n",
    "    cblock2 = EncoderSeTBlock(cblock1[0], pos_len=1000, num_heads=0, n_filters=32, kernel_size=kernel_size, dropout_prob=dropout_prob, layer_name=\"ecb_2_\", max_pooling=True)\n",
    "    cblock3 = EncoderSeTBlock(cblock2[0], pos_len=500, num_heads=num_heads, n_filters=32, kernel_size=kernel_size, dropout_prob=dropout_prob, layer_name=\"ecb_3_\", max_pooling=True)\n",
    "    cblock4 = EncoderSeTBlock(cblock3[0], pos_len=250, num_heads=num_heads, n_filters=32, kernel_size=kernel_size, dropout_prob=dropout_prob, layer_name=\"ecb_4_\", max_pooling=True)\n",
    "    cblock5 = EncoderSeTBlock(cblock4[0], pos_len=125, num_heads=num_heads, n_filters=32, kernel_size=kernel_size, dropout_prob=dropout_prob, layer_name=\"ecb_5_\", max_pooling=False)\n",
    "\n",
    "    ublock6 = DecoderSeTBlock(cblock5[0], cblock4[1],  pos_len=250, num_heads=num_heads, kernel_size=kernel_size, n_filters=256, layer_name=\"dcb_1_\")\n",
    "    ublock7 = DecoderSeTBlock(ublock6, cblock3[1], pos_len=500, num_heads=num_heads, kernel_size=kernel_size, n_filters=256, layer_name=\"dcb_2_\")\n",
    "    ublock8 = DecoderSeTBlock(ublock7, cblock2[1], pos_len=1000, num_heads=0, kernel_size=kernel_size, n_filters=256, layer_name=\"dcb_3_\")\n",
    "    ublock9 = DecoderSeTBlock(ublock8, cblock1[1], pos_len=2000, num_heads=0, kernel_size=kernel_size, n_filters=256, layer_name=\"dcb_4_\")\n",
    "    \n",
    "    conv9_0 = Conv1D(filters=128,\n",
    "                   kernel_size=11,\n",
    "                   activation='relu',\n",
    "                   padding='same',\n",
    "                   kernel_initializer='he_normal')(ublock9)\n",
    "    x = SqueezeExcitation1DLayer(out_dim=128, ratio=8, layer_name='se_0')(conv9_0)\n",
    "    conv9_1 = Conv1D(filters=64,\n",
    "                   kernel_size=7,\n",
    "                   activation='relu',\n",
    "                   padding='same',\n",
    "                   kernel_initializer='he_normal')(x)\n",
    "    x = SqueezeExcitation1DLayer(out_dim=64, ratio=8, layer_name='se_1')(conv9_1)\n",
    "    conv9_2 = Conv1D(filters=32,\n",
    "                   kernel_size=3,\n",
    "                   activation='relu',\n",
    "                   padding='same',\n",
    "                   kernel_initializer='he_normal')(x)\n",
    "    x = SqueezeExcitation1DLayer(out_dim=32, ratio=8, layer_name='se_2')(conv9_2)\n",
    "    flatten = Flatten()(x)\n",
    "    dense1_0 = Dense(32, activation='relu')(flatten)\n",
    "    dense1_1 = Dense(16, activation='relu')(dense1_0)\n",
    "    dense1_2 = Dense(n_classes, activation='linear')(dense1_1)\n",
    "\n",
    "    # Define the model\n",
    "    model = tf.keras.Model(inputs=inputs, outputs=dense1_2)\n",
    "\n",
    "    return model"
   ]
  },
  {
   "cell_type": "code",
   "execution_count": 7,
   "id": "2f99959f-81ad-4728-825a-69fb1f82b947",
   "metadata": {},
   "outputs": [
    {
     "name": "stderr",
     "output_type": "stream",
     "text": [
      "2022-09-09 12:56:05.617430: I tensorflow/core/platform/cpu_feature_guard.cc:151] This TensorFlow binary is optimized with oneAPI Deep Neural Network Library (oneDNN) to use the following CPU instructions in performance-critical operations:  AVX2 AVX512F FMA\n",
      "To enable them in other operations, rebuild TensorFlow with the appropriate compiler flags.\n",
      "2022-09-09 12:56:06.562878: I tensorflow/core/common_runtime/gpu/gpu_device.cc:1525] Created device /job:localhost/replica:0/task:0/device:GPU:0 with 30989 MB memory:  -> device: 0, name: Tesla V100-SXM2-32GB, pci bus id: 0000:b1:00.0, compute capability: 7.0\n",
      "2022-09-09 12:56:06.563697: I tensorflow/core/common_runtime/gpu/gpu_device.cc:1525] Created device /job:localhost/replica:0/task:0/device:GPU:1 with 30989 MB memory:  -> device: 1, name: Tesla V100-SXM2-32GB, pci bus id: 0000:b2:00.0, compute capability: 7.0\n"
     ]
    },
    {
     "name": "stdout",
     "output_type": "stream",
     "text": [
      "INFO:tensorflow:Using MirroredStrategy with devices ('/job:localhost/replica:0/task:0/device:GPU:0', '/job:localhost/replica:0/task:0/device:GPU:1')\n",
      "INFO:tensorflow:Reduce to /job:localhost/replica:0/task:0/device:CPU:0 then broadcast to ('/job:localhost/replica:0/task:0/device:CPU:0',).\n",
      "INFO:tensorflow:Reduce to /job:localhost/replica:0/task:0/device:CPU:0 then broadcast to ('/job:localhost/replica:0/task:0/device:CPU:0',).\n",
      "INFO:tensorflow:Reduce to /job:localhost/replica:0/task:0/device:CPU:0 then broadcast to ('/job:localhost/replica:0/task:0/device:CPU:0',).\n",
      "INFO:tensorflow:Reduce to /job:localhost/replica:0/task:0/device:CPU:0 then broadcast to ('/job:localhost/replica:0/task:0/device:CPU:0',).\n",
      "INFO:tensorflow:Reduce to /job:localhost/replica:0/task:0/device:CPU:0 then broadcast to ('/job:localhost/replica:0/task:0/device:CPU:0',).\n",
      "INFO:tensorflow:Reduce to /job:localhost/replica:0/task:0/device:CPU:0 then broadcast to ('/job:localhost/replica:0/task:0/device:CPU:0',).\n",
      "INFO:tensorflow:Reduce to /job:localhost/replica:0/task:0/device:CPU:0 then broadcast to ('/job:localhost/replica:0/task:0/device:CPU:0',).\n",
      "INFO:tensorflow:Reduce to /job:localhost/replica:0/task:0/device:CPU:0 then broadcast to ('/job:localhost/replica:0/task:0/device:CPU:0',).\n",
      "INFO:tensorflow:Reduce to /job:localhost/replica:0/task:0/device:CPU:0 then broadcast to ('/job:localhost/replica:0/task:0/device:CPU:0',).\n",
      "INFO:tensorflow:Reduce to /job:localhost/replica:0/task:0/device:CPU:0 then broadcast to ('/job:localhost/replica:0/task:0/device:CPU:0',).\n"
     ]
    }
   ],
   "source": [
    "max_len=f_length*2\n",
    "vocab_size=5\n",
    "num_gpus = len(tf.config.list_physical_devices('GPU'))\n",
    "opt = tf.optimizers.Adam()\n",
    "\n",
    "mirrored_strategy = tf.distribute.MirroredStrategy()\n",
    "\n",
    "with mirrored_strategy.scope():\n",
    "    model = Exp_Trans_UNet(input_size=(max_len, vocab_size))\n",
    "    r_square = tfa.metrics.r_square.RSquare(dtype=tf.float32, y_shape=(1,))\n",
    "    rmse = tf.keras.metrics.RootMeanSquaredError()\n",
    "\n",
    "    model.compile(optimizer=opt,\n",
    "                  loss=tf.keras.losses.mean_squared_error,\n",
    "                  metrics=[r_square, rmse])\n",
    "\n",
    "scheduler = CosineScheduler(max_update=100, base_lr=0.001*num_gpus, final_lr=0.0001*num_gpus, warmup_steps=15, warmup_begin_lr=0.0001)\n",
    "# scheduler = CosineScheduler(max_update=100, base_lr=0.0005*hvd.size(), final_lr=0.00001*hvd.size(), warmup_steps=20, warmup_begin_lr=0.00001)\n",
    "learning_rate = tf.keras.callbacks.LearningRateScheduler(scheduler)\n",
    "early_stop = tf.keras.callbacks.EarlyStopping(monitor='val_loss', patience=5, restore_best_weights=True)\n",
    "callbacks = [learning_rate,early_stop]"
   ]
  },
  {
   "cell_type": "markdown",
   "id": "2070e2a0-d381-4bd9-8c21-2bcbf9d0dd44",
   "metadata": {},
   "source": [
    "## round the pause index to integer"
   ]
  },
  {
   "cell_type": "code",
   "execution_count": 8,
   "id": "e4139bff-38a9-42ef-b6b7-5a62deeba7e7",
   "metadata": {},
   "outputs": [
    {
     "data": {
      "image/png": "[encoded data removed]",
      "text/plain": [
       "<Figure size 432x288 with 1 Axes>"
      ]
     },
     "metadata": {
      "needs_background": "light"
     },
     "output_type": "display_data"
    }
   ],
   "source": [
    "import pandas as pd\n",
    "\n",
    "n_classes = 10\n",
    "bin_counts, bin_edges = np.histogram(label_batch, bins=n_classes)\n",
    "bin_counts, bin_edges\n",
    "\n",
    "plt.hist(label_batch, bins = n_classes)\n",
    "plt.show()"
   ]
  },
  {
   "cell_type": "code",
   "execution_count": 9,
   "id": "76136359-17b5-4da7-8e2a-3b9523634ba2",
   "metadata": {},
   "outputs": [
    {
     "data": {
      "text/plain": [
       "[0.185367215536232,\n",
       " 0.290469230369925,\n",
       " 0.471381747118612,\n",
       " 0.471381747118612,\n",
       " 0.512208913297792]"
      ]
     },
     "execution_count": 9,
     "metadata": {},
     "output_type": "execute_result"
    }
   ],
   "source": [
    "label_batch[:5]"
   ]
  },
  {
   "cell_type": "code",
   "execution_count": 10,
   "id": "7ce6d775-e129-4ce9-aac2-67313b1e7acc",
   "metadata": {},
   "outputs": [
    {
     "data": {
      "text/plain": [
       "array([0.2, 0.3, 0.5, 0.5, 0.5])"
      ]
     },
     "execution_count": 10,
     "metadata": {},
     "output_type": "execute_result"
    }
   ],
   "source": [
    "np.round(label_batch[:5],decimals=1)"
   ]
  },
  {
   "cell_type": "code",
   "execution_count": 11,
   "id": "27e2d960-ab8b-44de-b1c6-16261f046efd",
   "metadata": {},
   "outputs": [
    {
     "name": "stdout",
     "output_type": "stream",
     "text": [
      "8860 1898 1898\n"
     ]
    }
   ],
   "source": [
    "full_dataset = tf.data.Dataset.from_tensor_slices((genome_seq_batch, np.round(label_batch,1)))\n",
    "\n",
    "DATASET_SIZE = tf.data.experimental.cardinality(full_dataset).numpy()\n",
    "train_size = int(0.7 * DATASET_SIZE)\n",
    "val_size = int(0.15 * DATASET_SIZE)\n",
    "test_size = int(0.15 * DATASET_SIZE)\n",
    "print(train_size, val_size, test_size)\n",
    "\n",
    "full_dataset = full_dataset.shuffle(50000, reshuffle_each_iteration=False)\n",
    "train_dataset = full_dataset.take(train_size)\n",
    "test_dataset = full_dataset.skip(train_size)\n",
    "val_dataset = test_dataset.skip(test_size)\n",
    "test_dataset = test_dataset.take(test_size)\n",
    "\n",
    "batch_size = 100\n",
    "train_dataset = train_dataset.batch(batch_size)\n",
    "val_dataset = val_dataset.batch(batch_size)\n",
    "test_dataset = test_dataset.batch(batch_size)\n",
    "\n",
    "# Disable AutoShard for multi GPUs support\n",
    "options = tf.data.Options()\n",
    "options.experimental_distribute.auto_shard_policy = tf.data.experimental.AutoShardPolicy.OFF\n",
    "train_dataset = train_dataset.with_options(options)\n",
    "val_dataset = val_dataset.with_options(options)\n",
    "test_dataset = test_dataset.with_options(options)"
   ]
  },
  {
   "cell_type": "code",
   "execution_count": 12,
   "id": "3e44a328-a9f3-41c1-82c2-4e501f3504c7",
   "metadata": {},
   "outputs": [
    {
     "name": "stdout",
     "output_type": "stream",
     "text": [
      "Epoch 1/200\n",
      "INFO:tensorflow:batch_all_reduce: 336 all-reduces with algorithm = nccl, num_packs = 1\n",
      "INFO:tensorflow:batch_all_reduce: 336 all-reduces with algorithm = nccl, num_packs = 1\n"
     ]
    },
    {
     "name": "stderr",
     "output_type": "stream",
     "text": [
      "2022-09-09 12:57:23.782616: I tensorflow/stream_executor/cuda/cuda_dnn.cc:368] Loaded cuDNN version 8202\n",
      "2022-09-09 12:57:24.620128: I tensorflow/stream_executor/cuda/cuda_dnn.cc:368] Loaded cuDNN version 8202\n"
     ]
    },
    {
     "name": "stdout",
     "output_type": "stream",
     "text": [
      "89/89 [==============================] - 102s 729ms/step - loss: 0.0944 - r_square: -0.0752 - root_mean_squared_error: 0.3072 - val_loss: 0.1959 - val_r_square: -1.1861 - val_root_mean_squared_error: 0.4426 - lr: 1.0000e-04\n",
      "Epoch 2/200\n",
      "89/89 [==============================] - 59s 663ms/step - loss: 0.0847 - r_square: 0.0349 - root_mean_squared_error: 0.2910 - val_loss: 0.1715 - val_r_square: -0.9138 - val_root_mean_squared_error: 0.4141 - lr: 2.2667e-04\n",
      "Epoch 3/200\n",
      "89/89 [==============================] - 59s 662ms/step - loss: 0.0789 - r_square: 0.1007 - root_mean_squared_error: 0.2809 - val_loss: 0.0889 - val_r_square: 0.0081 - val_root_mean_squared_error: 0.2982 - lr: 3.5333e-04\n",
      "Epoch 4/200\n",
      "89/89 [==============================] - 59s 662ms/step - loss: 0.0784 - r_square: 0.1060 - root_mean_squared_error: 0.2801 - val_loss: 0.0824 - val_r_square: 0.0805 - val_root_mean_squared_error: 0.2871 - lr: 4.8000e-04\n",
      "Epoch 5/200\n",
      "89/89 [==============================] - 59s 660ms/step - loss: 0.0778 - r_square: 0.1134 - root_mean_squared_error: 0.2789 - val_loss: 0.0836 - val_r_square: 0.0671 - val_root_mean_squared_error: 0.2892 - lr: 6.0667e-04\n",
      "Epoch 6/200\n",
      "89/89 [==============================] - 59s 661ms/step - loss: 0.0756 - r_square: 0.1386 - root_mean_squared_error: 0.2749 - val_loss: 0.0781 - val_r_square: 0.1290 - val_root_mean_squared_error: 0.2794 - lr: 7.3333e-04\n",
      "Epoch 7/200\n",
      "89/89 [==============================] - 59s 661ms/step - loss: 0.0734 - r_square: 0.1639 - root_mean_squared_error: 0.2709 - val_loss: 0.0778 - val_r_square: 0.1320 - val_root_mean_squared_error: 0.2789 - lr: 8.6000e-04\n",
      "Epoch 8/200\n",
      "89/89 [==============================] - 59s 659ms/step - loss: 0.0724 - r_square: 0.1748 - root_mean_squared_error: 0.2691 - val_loss: 0.0871 - val_r_square: 0.0286 - val_root_mean_squared_error: 0.2951 - lr: 9.8667e-04\n",
      "Epoch 9/200\n",
      "89/89 [==============================] - 59s 659ms/step - loss: 0.0713 - r_square: 0.1878 - root_mean_squared_error: 0.2670 - val_loss: 0.1196 - val_r_square: -0.3343 - val_root_mean_squared_error: 0.3458 - lr: 0.0011\n",
      "Epoch 10/200\n",
      "89/89 [==============================] - 59s 660ms/step - loss: 0.0709 - r_square: 0.1916 - root_mean_squared_error: 0.2663 - val_loss: 0.1064 - val_r_square: -0.1873 - val_root_mean_squared_error: 0.3262 - lr: 0.0012\n",
      "Epoch 11/200\n",
      "89/89 [==============================] - 59s 660ms/step - loss: 0.0699 - r_square: 0.2031 - root_mean_squared_error: 0.2644 - val_loss: 0.0862 - val_r_square: 0.0383 - val_root_mean_squared_error: 0.2936 - lr: 0.0014\n",
      "Epoch 12/200\n",
      "89/89 [==============================] - 59s 664ms/step - loss: 0.0695 - r_square: 0.2081 - root_mean_squared_error: 0.2636 - val_loss: 0.0888 - val_r_square: 0.0091 - val_root_mean_squared_error: 0.2980 - lr: 0.0015\n"
     ]
    }
   ],
   "source": [
    "history = model.fit(x=train_dataset, epochs=200,validation_data=val_dataset, callbacks=callbacks)"
   ]
  },
  {
   "cell_type": "code",
   "execution_count": 13,
   "id": "446e19ba-bc23-46a1-8f9b-9cff8c40a1d6",
   "metadata": {},
   "outputs": [
    {
     "name": "stdout",
     "output_type": "stream",
     "text": [
      "19/19 [==============================] - 5s 231ms/step - loss: 0.0761 - r_square: 0.1456 - root_mean_squared_error: 0.2758\n"
     ]
    },
    {
     "data": {
      "text/plain": [
       "[0.07607775181531906, 0.14563000202178955, 0.2758219540119171]"
      ]
     },
     "execution_count": 13,
     "metadata": {},
     "output_type": "execute_result"
    }
   ],
   "source": [
    "model.evaluate(test_dataset)"
   ]
  },
  {
   "cell_type": "code",
   "execution_count": 14,
   "id": "75f5e5df-3287-46a2-b871-c12a9b9a3792",
   "metadata": {},
   "outputs": [],
   "source": [
    "pred_pi = model.predict(test_dataset)\n",
    "\n",
    "true_pi = []\n",
    "tmp_dataset = test_dataset.unbatch()\n",
    "for _, true_test_label in tmp_dataset.as_numpy_iterator():\n",
    "    true_pi.append(true_test_label)"
   ]
  },
  {
   "cell_type": "code",
   "execution_count": 15,
   "id": "55811e49-cf8f-4d97-8be0-6dabc6ba376a",
   "metadata": {},
   "outputs": [
    {
     "data": {
      "text/plain": [
       "<matplotlib.collections.PathCollection at 0x150ef44abaf0>"
      ]
     },
     "execution_count": 15,
     "metadata": {},
     "output_type": "execute_result"
    },
    {
     "data": {
      "image/png": "[encoded data removed]",
      "text/plain": [
       "<Figure size 432x288 with 1 Axes>"
      ]
     },
     "metadata": {
      "needs_background": "light"
     },
     "output_type": "display_data"
    }
   ],
   "source": [
    "plt.scatter(true_pi, pred_pi)"
   ]
  },
  {
   "cell_type": "markdown",
   "id": "939d6082-bdcf-4d14-9e41-f62fa82fdb97",
   "metadata": {},
   "source": [
    "# binary classification"
   ]
  },
  {
   "cell_type": "code",
   "execution_count": 16,
   "id": "90381fdd-9e28-415e-bbd8-933fce858a7e",
   "metadata": {},
   "outputs": [],
   "source": [
    "def Exp_Trans_UNet(input_size=(2000, 5), n_filters=32, n_head = 8, n_ff_dims = 64, n_classes=1):\n",
    "    \"\"\"\n",
    "    Combine both encoder and decoder blocks according to the U-Net research paper\n",
    "    Return the model as output\n",
    "    \"\"\"\n",
    "    # Input size represent the size of 1 image (the size used for pre-processing)\n",
    "    inputs = Input(input_size)\n",
    "    max_len, vocab_size = input_size\n",
    "    dropout_prob = 0.2\n",
    "    kernel_size = 9\n",
    "    num_heads = 0\n",
    "    \n",
    "    cblock1 = EncoderSeTBlock(inputs, pos_len=200, num_heads=0, n_filters=32, kernel_size=kernel_size, dropout_prob=dropout_prob, layer_name=\"ecb_1_\", max_pooling=True)\n",
    "    cblock2 = EncoderSeTBlock(cblock1[0], pos_len=100, num_heads=0, n_filters=32, kernel_size=kernel_size, dropout_prob=dropout_prob, layer_name=\"ecb_2_\", max_pooling=True)\n",
    "    cblock3 = EncoderSeTBlock(cblock2[0], pos_len=50, num_heads=num_heads, n_filters=32, kernel_size=kernel_size, dropout_prob=dropout_prob, layer_name=\"ecb_3_\", max_pooling=True)\n",
    "    cblock4 = EncoderSeTBlock(cblock3[0], pos_len=25, num_heads=num_heads, n_filters=32, kernel_size=kernel_size, dropout_prob=dropout_prob, layer_name=\"ecb_4_\", max_pooling=False)\n",
    "    # cblock5 = EncoderSeTBlock(cblock4[0], pos_len=125, num_heads=num_heads, n_filters=32, kernel_size=kernel_size, dropout_prob=dropout_prob, layer_name=\"ecb_5_\", max_pooling=False)\n",
    "\n",
    "    # ublock6 = DecoderSeTBlock(cblock5[0], cblock4[1],  pos_len=25, num_heads=num_heads, kernel_size=kernel_size, n_filters=256, layer_name=\"dcb_1_\")\n",
    "    ublock7 = DecoderSeTBlock(cblock4[0], cblock3[1], pos_len=50, num_heads=num_heads, kernel_size=kernel_size, n_filters=256, layer_name=\"dcb_2_\")\n",
    "    ublock8 = DecoderSeTBlock(ublock7, cblock2[1], pos_len=100, num_heads=0, kernel_size=kernel_size, n_filters=256, layer_name=\"dcb_3_\")\n",
    "    ublock9 = DecoderSeTBlock(ublock8, cblock1[1], pos_len=200, num_heads=0, kernel_size=kernel_size, n_filters=256, layer_name=\"dcb_4_\")\n",
    "    \n",
    "    conv9_0 = Conv1D(filters=128,\n",
    "                   kernel_size=11,\n",
    "                   activation='relu',\n",
    "                   padding='same',\n",
    "                   kernel_initializer='he_normal')(ublock9)\n",
    "    x = SqueezeExcitation1DLayer(out_dim=128, ratio=8, layer_name='se_0')(conv9_0)\n",
    "    conv9_1 = Conv1D(filters=64,\n",
    "                   kernel_size=7,\n",
    "                   activation='relu',\n",
    "                   padding='same',\n",
    "                   kernel_initializer='he_normal')(x)\n",
    "    x = SqueezeExcitation1DLayer(out_dim=64, ratio=8, layer_name='se_1')(conv9_1)\n",
    "    conv9_2 = Conv1D(filters=32,\n",
    "                   kernel_size=3,\n",
    "                   activation='relu',\n",
    "                   padding='same',\n",
    "                   kernel_initializer='he_normal')(x)\n",
    "    x = SqueezeExcitation1DLayer(out_dim=32, ratio=8, layer_name='se_2')(conv9_2)\n",
    "    flatten = Flatten()(x)\n",
    "    dense1_0 = Dense(32, activation='relu')(flatten)\n",
    "    dense1_1 = Dense(16, activation='relu')(dense1_0)\n",
    "    dense1_2 = Dense(n_classes, activation='sigmoid')(dense1_1)\n",
    "\n",
    "    # Define the model\n",
    "    model = tf.keras.Model(inputs=inputs, outputs=dense1_2)\n",
    "\n",
    "    return model\n",
    "\n",
    "def rnn_model(input_shape=(200,5)):\n",
    "    model = Sequential([\n",
    "          InputLayer(input_shape=input_shape),\n",
    "          Bidirectional(LSTM(64, return_sequences = True), input_shape=input_shape),\n",
    "          Dropout(0.2),\n",
    "          Bidirectional(LSTM(32)),\n",
    "          Dropout(0.2),\n",
    "          Dense(64,activation='relu'),\n",
    "          Dropout(0.2),\n",
    "          Dense(32,activation='relu'),\n",
    "          Dense(16,activation='relu'),\n",
    "          Dense(1, activation='sigmoid')\n",
    "        ])  \n",
    "    return model"
   ]
  },
  {
   "cell_type": "code",
   "execution_count": 17,
   "id": "7dc79f4d-ca4b-4a18-b0b5-6d2a7bd58d6d",
   "metadata": {},
   "outputs": [
    {
     "data": {
      "text/plain": [
       "(array([8777, 3881]), array([6.73404789e-05, 4.98458609e-01, 9.96849877e-01]))"
      ]
     },
     "execution_count": 17,
     "metadata": {},
     "output_type": "execute_result"
    }
   ],
   "source": [
    "n_classes = 2\n",
    "bin_counts, bin_edges = np.histogram(label_batch, bins=n_classes)\n",
    "bin_counts, bin_edges"
   ]
  },
  {
   "cell_type": "code",
   "execution_count": 18,
   "id": "0756ac4a-f46f-4279-bdb2-d761e77847ff",
   "metadata": {},
   "outputs": [
    {
     "data": {
      "image/png": "[encoded data removed]",
      "text/plain": [
       "<Figure size 432x288 with 1 Axes>"
      ]
     },
     "metadata": {},
     "output_type": "display_data"
    }
   ],
   "source": [
    "label_batch_binned = []\n",
    "# for i in label_batch:\n",
    "#     if i < bin_edges[1]:\n",
    "#         label_batch_binned.append(0)\n",
    "#     elif bin_edges[1] <= i < bin_edges[2]:\n",
    "#         label_batch_binned.append(1)\n",
    "#     else:\n",
    "#         label_batch_binned.append(2)\n",
    "for i in label_batch:\n",
    "    if i < bin_edges[1]:\n",
    "        label_batch_binned.append(0)\n",
    "    else:\n",
    "        label_batch_binned.append(1)\n",
    "\n",
    "import pandas as pd\n",
    "import seaborn as sns\n",
    "df = pd.DataFrame({'label_batch_binned':label_batch_binned, 'label_batch': label_batch})\n",
    "sns.set_theme(style=\"whitegrid\")\n",
    "ax = sns.violinplot(x=\"label_batch_binned\", y=\"label_batch\", data=df)"
   ]
  },
  {
   "cell_type": "code",
   "execution_count": 19,
   "id": "c5a05664-6d4b-4763-801e-882a9fb0d40d",
   "metadata": {},
   "outputs": [
    {
     "name": "stdout",
     "output_type": "stream",
     "text": [
      "8860 1898 1898\n"
     ]
    }
   ],
   "source": [
    "full_dataset = tf.data.Dataset.from_tensor_slices((genome_seq_batch, label_batch_binned))\n",
    "\n",
    "DATASET_SIZE = tf.data.experimental.cardinality(full_dataset).numpy()\n",
    "train_size = int(0.7 * DATASET_SIZE)\n",
    "val_size = int(0.15 * DATASET_SIZE)\n",
    "test_size = int(0.15 * DATASET_SIZE)\n",
    "print(train_size, val_size, test_size)\n",
    "\n",
    "full_dataset = full_dataset.shuffle(50000, reshuffle_each_iteration=False)\n",
    "train_dataset = full_dataset.take(train_size)\n",
    "test_dataset = full_dataset.skip(train_size)\n",
    "val_dataset = test_dataset.skip(test_size)\n",
    "test_dataset = test_dataset.take(test_size)\n",
    "\n",
    "batch_size = 100\n",
    "train_dataset = train_dataset.batch(batch_size)\n",
    "val_dataset = val_dataset.batch(batch_size)\n",
    "test_dataset = test_dataset.batch(batch_size)\n",
    "\n",
    "# Disable AutoShard for multi GPUs support\n",
    "options = tf.data.Options()\n",
    "options.experimental_distribute.auto_shard_policy = tf.data.experimental.AutoShardPolicy.OFF\n",
    "train_dataset = train_dataset.with_options(options)\n",
    "val_dataset = val_dataset.with_options(options)\n",
    "test_dataset = test_dataset.with_options(options)"
   ]
  },
  {
   "cell_type": "code",
   "execution_count": 20,
   "id": "0ca447cf-2b67-4ad4-9513-cfd4a25d038b",
   "metadata": {},
   "outputs": [
    {
     "name": "stdout",
     "output_type": "stream",
     "text": [
      "INFO:tensorflow:Using MirroredStrategy with devices ('/job:localhost/replica:0/task:0/device:GPU:0', '/job:localhost/replica:0/task:0/device:GPU:1')\n"
     ]
    }
   ],
   "source": [
    "max_len=f_length*2\n",
    "vocab_size=5\n",
    "\n",
    "opt = tf.optimizers.Adam()\n",
    "\n",
    "mirrored_strategy = tf.distribute.MirroredStrategy()\n",
    "\n",
    "with mirrored_strategy.scope():\n",
    "    model = Exp_Trans_UNet(input_size=(max_len, vocab_size))\n",
    "    # model = rnn_model(input_shape=(max_len, vocab_size))\n",
    "    model.compile(optimizer=opt,\n",
    "                  loss=tf.keras.losses.binary_crossentropy,\n",
    "                  metrics=['accuracy',\n",
    "                           tf.keras.metrics.AUC(curve=\"ROC\", num_thresholds=1001, name=\"auc\"),\n",
    "                           tf.keras.metrics.AUC(curve=\"PR\", num_thresholds=1001, name=\"pr_auc\")])\n",
    "\n",
    "scheduler = CosineScheduler(max_update=100, base_lr=0.001*num_gpus, final_lr=0.0001*num_gpus, warmup_steps=15, warmup_begin_lr=0.0001)\n",
    "# scheduler = CosineScheduler(max_update=100, base_lr=0.0005*hvd.size(), final_lr=0.00001*hvd.size(), warmup_steps=20, warmup_begin_lr=0.00001)\n",
    "learning_rate = tf.keras.callbacks.LearningRateScheduler(scheduler)\n",
    "early_stop = tf.keras.callbacks.EarlyStopping(monitor='val_loss', patience=10, restore_best_weights=True)\n",
    "callbacks = [learning_rate,early_stop]"
   ]
  },
  {
   "cell_type": "code",
   "execution_count": 21,
   "id": "090531bc-f527-4df2-9cb5-887cb71af8d8",
   "metadata": {},
   "outputs": [
    {
     "name": "stdout",
     "output_type": "stream",
     "text": [
      "Epoch 1/200\n",
      "INFO:tensorflow:batch_all_reduce: 142 all-reduces with algorithm = nccl, num_packs = 1\n",
      "INFO:tensorflow:batch_all_reduce: 142 all-reduces with algorithm = nccl, num_packs = 1\n",
      "89/89 [==============================] - 37s 242ms/step - loss: 0.6136 - accuracy: 0.6922 - auc: 0.5560 - pr_auc: 0.3369 - val_loss: 0.6227 - val_accuracy: 0.6953 - val_auc: 0.5450 - val_pr_auc: 0.3369 - lr: 1.0000e-04\n",
      "Epoch 2/200\n",
      "89/89 [==============================] - 19s 209ms/step - loss: 0.5766 - accuracy: 0.6989 - auc: 0.6784 - pr_auc: 0.4583 - val_loss: 0.6073 - val_accuracy: 0.6953 - val_auc: 0.5890 - val_pr_auc: 0.3829 - lr: 2.2667e-04\n",
      "Epoch 3/200\n",
      "89/89 [==============================] - 18s 207ms/step - loss: 0.5491 - accuracy: 0.7199 - auc: 0.7282 - pr_auc: 0.5148 - val_loss: 0.6202 - val_accuracy: 0.6953 - val_auc: 0.7093 - val_pr_auc: 0.4731 - lr: 3.5333e-04\n",
      "Epoch 4/200\n",
      "89/89 [==============================] - 19s 210ms/step - loss: 0.5413 - accuracy: 0.7261 - auc: 0.7370 - pr_auc: 0.5237 - val_loss: 0.5502 - val_accuracy: 0.7111 - val_auc: 0.7402 - val_pr_auc: 0.5125 - lr: 4.8000e-04\n",
      "Epoch 5/200\n",
      "89/89 [==============================] - 19s 209ms/step - loss: 0.5301 - accuracy: 0.7343 - auc: 0.7522 - pr_auc: 0.5476 - val_loss: 0.5396 - val_accuracy: 0.7179 - val_auc: 0.7385 - val_pr_auc: 0.5193 - lr: 6.0667e-04\n",
      "Epoch 6/200\n",
      "89/89 [==============================] - 19s 210ms/step - loss: 0.5238 - accuracy: 0.7402 - auc: 0.7607 - pr_auc: 0.5669 - val_loss: 0.5363 - val_accuracy: 0.7237 - val_auc: 0.7409 - val_pr_auc: 0.5234 - lr: 7.3333e-04\n",
      "Epoch 7/200\n",
      "89/89 [==============================] - 19s 208ms/step - loss: 0.5260 - accuracy: 0.7394 - auc: 0.7578 - pr_auc: 0.5662 - val_loss: 0.5295 - val_accuracy: 0.7221 - val_auc: 0.7593 - val_pr_auc: 0.5347 - lr: 8.6000e-04\n",
      "Epoch 8/200\n",
      "89/89 [==============================] - 18s 208ms/step - loss: 0.5142 - accuracy: 0.7418 - auc: 0.7727 - pr_auc: 0.5774 - val_loss: 0.6071 - val_accuracy: 0.6911 - val_auc: 0.7301 - val_pr_auc: 0.5213 - lr: 9.8667e-04\n",
      "Epoch 9/200\n",
      "89/89 [==============================] - 19s 208ms/step - loss: 0.5106 - accuracy: 0.7497 - auc: 0.7762 - pr_auc: 0.5903 - val_loss: 0.5578 - val_accuracy: 0.7268 - val_auc: 0.7377 - val_pr_auc: 0.5412 - lr: 0.0011\n",
      "Epoch 10/200\n",
      "89/89 [==============================] - 18s 207ms/step - loss: 0.5122 - accuracy: 0.7429 - auc: 0.7760 - pr_auc: 0.5846 - val_loss: 0.5480 - val_accuracy: 0.7142 - val_auc: 0.7547 - val_pr_auc: 0.5419 - lr: 0.0012\n",
      "Epoch 11/200\n",
      "89/89 [==============================] - 18s 207ms/step - loss: 0.4974 - accuracy: 0.7544 - auc: 0.7920 - pr_auc: 0.6055 - val_loss: 0.5486 - val_accuracy: 0.7200 - val_auc: 0.7396 - val_pr_auc: 0.5298 - lr: 0.0014\n",
      "Epoch 12/200\n",
      "89/89 [==============================] - 18s 208ms/step - loss: 0.4953 - accuracy: 0.7574 - auc: 0.7929 - pr_auc: 0.6123 - val_loss: 0.5611 - val_accuracy: 0.7137 - val_auc: 0.7263 - val_pr_auc: 0.5123 - lr: 0.0015\n",
      "Epoch 13/200\n",
      "89/89 [==============================] - 18s 207ms/step - loss: 0.4971 - accuracy: 0.7541 - auc: 0.7909 - pr_auc: 0.6122 - val_loss: 0.5413 - val_accuracy: 0.7189 - val_auc: 0.7317 - val_pr_auc: 0.5146 - lr: 0.0016\n",
      "Epoch 14/200\n",
      "89/89 [==============================] - 18s 207ms/step - loss: 0.4895 - accuracy: 0.7608 - auc: 0.7994 - pr_auc: 0.6213 - val_loss: 0.5710 - val_accuracy: 0.7126 - val_auc: 0.7341 - val_pr_auc: 0.5002 - lr: 0.0017\n",
      "Epoch 15/200\n",
      "89/89 [==============================] - 18s 207ms/step - loss: 0.4873 - accuracy: 0.7640 - auc: 0.8008 - pr_auc: 0.6269 - val_loss: 0.5519 - val_accuracy: 0.7200 - val_auc: 0.7266 - val_pr_auc: 0.5171 - lr: 0.0019\n",
      "Epoch 16/200\n",
      "89/89 [==============================] - 18s 207ms/step - loss: 0.4934 - accuracy: 0.7547 - auc: 0.7959 - pr_auc: 0.6198 - val_loss: 0.5393 - val_accuracy: 0.7163 - val_auc: 0.7487 - val_pr_auc: 0.5236 - lr: 0.0020\n",
      "Epoch 17/200\n",
      "89/89 [==============================] - 19s 210ms/step - loss: 0.4820 - accuracy: 0.7641 - auc: 0.8061 - pr_auc: 0.6360 - val_loss: 0.5519 - val_accuracy: 0.7089 - val_auc: 0.7253 - val_pr_auc: 0.4972 - lr: 0.0020\n"
     ]
    }
   ],
   "source": [
    "history = model.fit(x=train_dataset, epochs=200,validation_data=val_dataset, callbacks=callbacks)"
   ]
  },
  {
   "cell_type": "code",
   "execution_count": 22,
   "id": "94f53ffb-6d4f-4552-8423-cb40d3d2dc77",
   "metadata": {},
   "outputs": [
    {
     "name": "stdout",
     "output_type": "stream",
     "text": [
      "f1_score:  0.7098013841339736\n",
      "matthews_corrcoef:  0.3120268318366265\n",
      "roc_auc_score:  0.7353935577997599\n",
      "average_precision_score:  0.5376334475087741\n",
      "precision_score:  0.7062634512522414\n",
      "recall_score:  0.7191780821917808\n",
      "accuracy_score:  0.7191780821917808\n"
     ]
    }
   ],
   "source": [
    "pred_exp = model.predict(test_dataset)\n",
    "\n",
    "true_exp = []\n",
    "tmp_dataset = test_dataset.unbatch()\n",
    "for _, true_test_label in tmp_dataset.as_numpy_iterator():\n",
    "    true_exp.append(true_test_label)\n",
    "    \n",
    "decoded_pred_exp = np.round(pred_exp)\n",
    "decoded_true_exp = true_exp\n",
    "\n",
    "print('f1_score: ', f1_score(decoded_true_exp, decoded_pred_exp, average='weighted'))\n",
    "print('matthews_corrcoef: ', matthews_corrcoef(decoded_true_exp, decoded_pred_exp))\n",
    "print('roc_auc_score: ',roc_auc_score(true_exp, pred_exp))\n",
    "print('average_precision_score: ',average_precision_score(true_exp, pred_exp))\n",
    "print('precision_score: ', precision_score(true_exp, np.round(pred_exp),average='weighted'))\n",
    "print('recall_score: ', recall_score(true_exp, np.round(pred_exp),average='weighted'))\n",
    "print('accuracy_score: ', accuracy_score(true_exp, np.round(pred_exp)))"
   ]
  },
  {
   "cell_type": "code",
   "execution_count": 23,
   "id": "d4aace4a-90d6-47f0-88e7-cb5c19cf3dfc",
   "metadata": {},
   "outputs": [
    {
     "data": {
      "image/png": "[encoded data removed]",
      "text/plain": [
       "<Figure size 432x288 with 2 Axes>"
      ]
     },
     "metadata": {},
     "output_type": "display_data"
    }
   ],
   "source": [
    "from sklearn.metrics import confusion_matrix\n",
    "from sklearn.metrics import ConfusionMatrixDisplay\n",
    "\n",
    "cm = confusion_matrix(decoded_true_exp, decoded_pred_exp)\n",
    "cm_display = ConfusionMatrixDisplay(cm).plot()"
   ]
  },
  {
   "cell_type": "code",
   "execution_count": null,
   "id": "00f78b0d-50dd-47b5-81fc-d267831d1457",
   "metadata": {},
   "outputs": [],
   "source": []
  }
 ],
 "metadata": {
  "kernelspec": {
   "display_name": "Python 3 (ipykernel)",
   "language": "python",
   "name": "python3"
  },
  "language_info": {
   "codemirror_mode": {
    "name": "ipython",
    "version": 3
   },
   "file_extension": ".py",
   "mimetype": "text/x-python",
   "name": "python",
   "nbconvert_exporter": "python",
   "pygments_lexer": "ipython3",
   "version": "3.8.8"
  }
 },
 "nbformat": 4,
 "nbformat_minor": 5
}
